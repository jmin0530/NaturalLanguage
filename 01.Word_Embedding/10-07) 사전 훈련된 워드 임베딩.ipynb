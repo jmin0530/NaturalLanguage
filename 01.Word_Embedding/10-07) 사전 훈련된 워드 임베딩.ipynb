{
 "cells": [
  {
   "cell_type": "markdown",
   "id": "similar-private",
   "metadata": {},
   "source": [
    "# 임베딩 층 사용하기"
   ]
  },
  {
   "cell_type": "markdown",
   "id": "proof-onion",
   "metadata": {},
   "source": [
    "문장의 긍정, 부정을 판단하는 감성 분류 모델을 만들어 보자"
   ]
  },
  {
   "cell_type": "code",
   "execution_count": 1,
   "id": "hazardous-ladder",
   "metadata": {
    "ExecuteTime": {
     "end_time": "2021-02-25T04:46:48.340065Z",
     "start_time": "2021-02-25T04:46:42.818265Z"
    }
   },
   "outputs": [],
   "source": [
    "from tensorflow.keras.preprocessing.text import Tokenizer\n",
    "from tensorflow.keras.preprocessing.sequence import pad_sequences\n",
    "import numpy as np"
   ]
  },
  {
   "cell_type": "code",
   "execution_count": 2,
   "id": "fatal-involvement",
   "metadata": {
    "ExecuteTime": {
     "end_time": "2021-02-25T04:47:56.712991Z",
     "start_time": "2021-02-25T04:47:56.705330Z"
    }
   },
   "outputs": [],
   "source": [
    "# 문장과 레이블 데이터 생성. 긍정은 1, 부정은 0\n",
    "sentences = ['nice great best amazing', 'stop lies', 'pitiful nerd', 'excellent work', 'supreme quality', 'bad', 'highly respectable']\n",
    "y_train = [1, 0, 0, 1, 1, 0, 1]"
   ]
  },
  {
   "cell_type": "code",
   "execution_count": 3,
   "id": "natural-theta",
   "metadata": {
    "ExecuteTime": {
     "end_time": "2021-02-25T04:48:04.217497Z",
     "start_time": "2021-02-25T04:48:04.209119Z"
    }
   },
   "outputs": [
    {
     "name": "stdout",
     "output_type": "stream",
     "text": [
      "16\n"
     ]
    }
   ],
   "source": [
    "# 케라스의 Tokenizer()를 이용하여 토큰화 시킨다.\n",
    "t = Tokenizer()\n",
    "t.fit_on_texts(sentences)\n",
    "vocab_size = len(t.word_index) + 1\n",
    "\n",
    "print(vocab_size)"
   ]
  },
  {
   "cell_type": "code",
   "execution_count": 4,
   "id": "theoretical-compatibility",
   "metadata": {
    "ExecuteTime": {
     "end_time": "2021-02-25T04:48:10.826805Z",
     "start_time": "2021-02-25T04:48:10.821734Z"
    }
   },
   "outputs": [
    {
     "name": "stdout",
     "output_type": "stream",
     "text": [
      "[[1, 2, 3, 4], [5, 6], [7, 8], [9, 10], [11, 12], [13], [14, 15]]\n"
     ]
    }
   ],
   "source": [
    "# 각 문장에 대해서 정수 인코딩\n",
    "X_encoded = t.texts_to_sequences(sentences)\n",
    "print(X_encoded)"
   ]
  },
  {
   "cell_type": "code",
   "execution_count": 5,
   "id": "excess-handbook",
   "metadata": {
    "ExecuteTime": {
     "end_time": "2021-02-25T04:48:18.870285Z",
     "start_time": "2021-02-25T04:48:18.866040Z"
    },
    "scrolled": true
   },
   "outputs": [
    {
     "name": "stdout",
     "output_type": "stream",
     "text": [
      "4\n"
     ]
    }
   ],
   "source": [
    "max_len=max(len(l) for l in X_encoded)\n",
    "print(max_len)"
   ]
  },
  {
   "cell_type": "markdown",
   "id": "mature-exercise",
   "metadata": {},
   "source": [
    "문장들 중에서 가장 긴 문장의 길이는 4이다. 그래서 모든 문장을 패딩하여 길이를 4로 만들어준다."
   ]
  },
  {
   "cell_type": "code",
   "execution_count": 6,
   "id": "worldwide-green",
   "metadata": {
    "ExecuteTime": {
     "end_time": "2021-02-25T04:48:26.520838Z",
     "start_time": "2021-02-25T04:48:26.510761Z"
    }
   },
   "outputs": [
    {
     "name": "stdout",
     "output_type": "stream",
     "text": [
      "[[ 1  2  3  4]\n",
      " [ 5  6  0  0]\n",
      " [ 7  8  0  0]\n",
      " [ 9 10  0  0]\n",
      " [11 12  0  0]\n",
      " [13  0  0  0]\n",
      " [14 15  0  0]]\n"
     ]
    }
   ],
   "source": [
    "X_train=pad_sequences(X_encoded, maxlen=max_len, padding='post')\n",
    "y_train=np.array(y_train)\n",
    "print(X_train)"
   ]
  },
  {
   "cell_type": "code",
   "execution_count": 7,
   "id": "apart-documentation",
   "metadata": {
    "ExecuteTime": {
     "end_time": "2021-02-25T04:48:39.459005Z",
     "start_time": "2021-02-25T04:48:39.333644Z"
    }
   },
   "outputs": [],
   "source": [
    "from tensorflow.keras.models import Sequential\n",
    "from tensorflow.keras.layers import Dense, Embedding, Flatten\n",
    "\n",
    "model = Sequential()\n",
    "model.add(Embedding(vocab_size, 4, input_length=max_len)) # 모든 임베딩 벡터는 4차원.\n",
    "model.add(Flatten()) # Dense의 입력으로 넣기위함.\n",
    "model.add(Dense(1, activation='sigmoid'))"
   ]
  },
  {
   "cell_type": "code",
   "execution_count": 8,
   "id": "deluxe-technical",
   "metadata": {
    "ExecuteTime": {
     "end_time": "2021-02-25T04:48:47.929291Z",
     "start_time": "2021-02-25T04:48:46.613804Z"
    },
    "collapsed": true
   },
   "outputs": [
    {
     "name": "stdout",
     "output_type": "stream",
     "text": [
      "Epoch 1/100\n",
      "1/1 - 1s - loss: 0.6942 - acc: 0.4286\n",
      "Epoch 2/100\n",
      "1/1 - 0s - loss: 0.6927 - acc: 0.5714\n",
      "Epoch 3/100\n",
      "1/1 - 0s - loss: 0.6913 - acc: 0.5714\n",
      "Epoch 4/100\n",
      "1/1 - 0s - loss: 0.6898 - acc: 0.5714\n",
      "Epoch 5/100\n",
      "1/1 - 0s - loss: 0.6884 - acc: 0.5714\n",
      "Epoch 6/100\n",
      "1/1 - 0s - loss: 0.6869 - acc: 0.5714\n",
      "Epoch 7/100\n",
      "1/1 - 0s - loss: 0.6855 - acc: 0.5714\n",
      "Epoch 8/100\n",
      "1/1 - 0s - loss: 0.6840 - acc: 0.5714\n",
      "Epoch 9/100\n",
      "1/1 - 0s - loss: 0.6826 - acc: 0.5714\n",
      "Epoch 10/100\n",
      "1/1 - 0s - loss: 0.6811 - acc: 0.5714\n",
      "Epoch 11/100\n",
      "1/1 - 0s - loss: 0.6797 - acc: 0.5714\n",
      "Epoch 12/100\n",
      "1/1 - 0s - loss: 0.6782 - acc: 0.5714\n",
      "Epoch 13/100\n",
      "1/1 - 0s - loss: 0.6768 - acc: 0.5714\n",
      "Epoch 14/100\n",
      "1/1 - 0s - loss: 0.6753 - acc: 0.5714\n",
      "Epoch 15/100\n",
      "1/1 - 0s - loss: 0.6739 - acc: 0.5714\n",
      "Epoch 16/100\n",
      "1/1 - 0s - loss: 0.6724 - acc: 0.5714\n",
      "Epoch 17/100\n",
      "1/1 - 0s - loss: 0.6709 - acc: 0.5714\n",
      "Epoch 18/100\n",
      "1/1 - 0s - loss: 0.6695 - acc: 0.5714\n",
      "Epoch 19/100\n",
      "1/1 - 0s - loss: 0.6680 - acc: 0.5714\n",
      "Epoch 20/100\n",
      "1/1 - 0s - loss: 0.6666 - acc: 0.5714\n",
      "Epoch 21/100\n",
      "1/1 - 0s - loss: 0.6651 - acc: 0.5714\n",
      "Epoch 22/100\n",
      "1/1 - 0s - loss: 0.6636 - acc: 0.5714\n",
      "Epoch 23/100\n",
      "1/1 - 0s - loss: 0.6622 - acc: 0.5714\n",
      "Epoch 24/100\n",
      "1/1 - 0s - loss: 0.6607 - acc: 0.5714\n",
      "Epoch 25/100\n",
      "1/1 - 0s - loss: 0.6592 - acc: 0.5714\n",
      "Epoch 26/100\n",
      "1/1 - 0s - loss: 0.6577 - acc: 0.5714\n",
      "Epoch 27/100\n",
      "1/1 - 0s - loss: 0.6562 - acc: 0.5714\n",
      "Epoch 28/100\n",
      "1/1 - 0s - loss: 0.6547 - acc: 0.5714\n",
      "Epoch 29/100\n",
      "1/1 - 0s - loss: 0.6533 - acc: 0.5714\n",
      "Epoch 30/100\n",
      "1/1 - 0s - loss: 0.6518 - acc: 0.5714\n",
      "Epoch 31/100\n",
      "1/1 - 0s - loss: 0.6502 - acc: 0.5714\n",
      "Epoch 32/100\n",
      "1/1 - 0s - loss: 0.6487 - acc: 0.5714\n",
      "Epoch 33/100\n",
      "1/1 - 0s - loss: 0.6472 - acc: 0.5714\n",
      "Epoch 34/100\n",
      "1/1 - 0s - loss: 0.6457 - acc: 0.5714\n",
      "Epoch 35/100\n",
      "1/1 - 0s - loss: 0.6442 - acc: 0.5714\n",
      "Epoch 36/100\n",
      "1/1 - 0s - loss: 0.6426 - acc: 0.5714\n",
      "Epoch 37/100\n",
      "1/1 - 0s - loss: 0.6411 - acc: 0.5714\n",
      "Epoch 38/100\n",
      "1/1 - 0s - loss: 0.6395 - acc: 0.5714\n",
      "Epoch 39/100\n",
      "1/1 - 0s - loss: 0.6380 - acc: 0.5714\n",
      "Epoch 40/100\n",
      "1/1 - 0s - loss: 0.6364 - acc: 0.5714\n",
      "Epoch 41/100\n",
      "1/1 - 0s - loss: 0.6349 - acc: 0.5714\n",
      "Epoch 42/100\n",
      "1/1 - 0s - loss: 0.6333 - acc: 0.5714\n",
      "Epoch 43/100\n",
      "1/1 - 0s - loss: 0.6317 - acc: 0.5714\n",
      "Epoch 44/100\n",
      "1/1 - 0s - loss: 0.6301 - acc: 0.5714\n",
      "Epoch 45/100\n",
      "1/1 - 0s - loss: 0.6285 - acc: 0.5714\n",
      "Epoch 46/100\n",
      "1/1 - 0s - loss: 0.6269 - acc: 0.5714\n",
      "Epoch 47/100\n",
      "1/1 - 0s - loss: 0.6253 - acc: 0.5714\n",
      "Epoch 48/100\n",
      "1/1 - 0s - loss: 0.6236 - acc: 0.5714\n",
      "Epoch 49/100\n",
      "1/1 - 0s - loss: 0.6220 - acc: 0.5714\n",
      "Epoch 50/100\n",
      "1/1 - 0s - loss: 0.6204 - acc: 0.5714\n",
      "Epoch 51/100\n",
      "1/1 - 0s - loss: 0.6187 - acc: 0.5714\n",
      "Epoch 52/100\n",
      "1/1 - 0s - loss: 0.6171 - acc: 0.5714\n",
      "Epoch 53/100\n",
      "1/1 - 0s - loss: 0.6154 - acc: 0.5714\n",
      "Epoch 54/100\n",
      "1/1 - 0s - loss: 0.6137 - acc: 0.5714\n",
      "Epoch 55/100\n",
      "1/1 - 0s - loss: 0.6121 - acc: 0.5714\n",
      "Epoch 56/100\n",
      "1/1 - 0s - loss: 0.6104 - acc: 0.5714\n",
      "Epoch 57/100\n",
      "1/1 - 0s - loss: 0.6087 - acc: 0.5714\n",
      "Epoch 58/100\n",
      "1/1 - 0s - loss: 0.6070 - acc: 0.5714\n",
      "Epoch 59/100\n",
      "1/1 - 0s - loss: 0.6053 - acc: 0.5714\n",
      "Epoch 60/100\n",
      "1/1 - 0s - loss: 0.6035 - acc: 0.5714\n",
      "Epoch 61/100\n",
      "1/1 - 0s - loss: 0.6018 - acc: 0.5714\n",
      "Epoch 62/100\n",
      "1/1 - 0s - loss: 0.6001 - acc: 0.5714\n",
      "Epoch 63/100\n",
      "1/1 - 0s - loss: 0.5983 - acc: 0.7143\n",
      "Epoch 64/100\n",
      "1/1 - 0s - loss: 0.5966 - acc: 0.8571\n",
      "Epoch 65/100\n",
      "1/1 - 0s - loss: 0.5948 - acc: 0.8571\n",
      "Epoch 66/100\n",
      "1/1 - 0s - loss: 0.5931 - acc: 0.8571\n",
      "Epoch 67/100\n",
      "1/1 - 0s - loss: 0.5913 - acc: 0.8571\n",
      "Epoch 68/100\n",
      "1/1 - 0s - loss: 0.5895 - acc: 0.8571\n",
      "Epoch 69/100\n",
      "1/1 - 0s - loss: 0.5877 - acc: 0.8571\n",
      "Epoch 70/100\n",
      "1/1 - 0s - loss: 0.5859 - acc: 0.8571\n",
      "Epoch 71/100\n",
      "1/1 - 0s - loss: 0.5841 - acc: 0.8571\n",
      "Epoch 72/100\n",
      "1/1 - 0s - loss: 0.5823 - acc: 0.8571\n",
      "Epoch 73/100\n",
      "1/1 - 0s - loss: 0.5805 - acc: 1.0000\n",
      "Epoch 74/100\n",
      "1/1 - 0s - loss: 0.5787 - acc: 1.0000\n",
      "Epoch 75/100\n",
      "1/1 - 0s - loss: 0.5768 - acc: 1.0000\n",
      "Epoch 76/100\n",
      "1/1 - 0s - loss: 0.5750 - acc: 1.0000\n",
      "Epoch 77/100\n",
      "1/1 - 0s - loss: 0.5731 - acc: 1.0000\n",
      "Epoch 78/100\n",
      "1/1 - 0s - loss: 0.5713 - acc: 1.0000\n",
      "Epoch 79/100\n",
      "1/1 - 0s - loss: 0.5694 - acc: 1.0000\n",
      "Epoch 80/100\n",
      "1/1 - 0s - loss: 0.5676 - acc: 1.0000\n",
      "Epoch 81/100\n",
      "1/1 - 0s - loss: 0.5657 - acc: 1.0000\n",
      "Epoch 82/100\n",
      "1/1 - 0s - loss: 0.5638 - acc: 1.0000\n",
      "Epoch 83/100\n",
      "1/1 - 0s - loss: 0.5619 - acc: 1.0000\n",
      "Epoch 84/100\n",
      "1/1 - 0s - loss: 0.5600 - acc: 1.0000\n",
      "Epoch 85/100\n",
      "1/1 - 0s - loss: 0.5581 - acc: 1.0000\n",
      "Epoch 86/100\n",
      "1/1 - 0s - loss: 0.5562 - acc: 1.0000\n",
      "Epoch 87/100\n",
      "1/1 - 0s - loss: 0.5543 - acc: 1.0000\n",
      "Epoch 88/100\n",
      "1/1 - 0s - loss: 0.5524 - acc: 1.0000\n",
      "Epoch 89/100\n",
      "1/1 - 0s - loss: 0.5504 - acc: 1.0000\n",
      "Epoch 90/100\n",
      "1/1 - 0s - loss: 0.5485 - acc: 1.0000\n",
      "Epoch 91/100\n",
      "1/1 - 0s - loss: 0.5466 - acc: 1.0000\n",
      "Epoch 92/100\n",
      "1/1 - 0s - loss: 0.5446 - acc: 1.0000\n",
      "Epoch 93/100\n",
      "1/1 - 0s - loss: 0.5427 - acc: 1.0000\n",
      "Epoch 94/100\n",
      "1/1 - 0s - loss: 0.5407 - acc: 1.0000\n",
      "Epoch 95/100\n",
      "1/1 - 0s - loss: 0.5388 - acc: 1.0000\n",
      "Epoch 96/100\n",
      "1/1 - 0s - loss: 0.5368 - acc: 1.0000\n",
      "Epoch 97/100\n",
      "1/1 - 0s - loss: 0.5348 - acc: 1.0000\n",
      "Epoch 98/100\n",
      "1/1 - 0s - loss: 0.5328 - acc: 1.0000\n",
      "Epoch 99/100\n",
      "1/1 - 0s - loss: 0.5309 - acc: 1.0000\n",
      "Epoch 100/100\n",
      "1/1 - 0s - loss: 0.5289 - acc: 1.0000\n"
     ]
    },
    {
     "data": {
      "text/plain": [
       "<tensorflow.python.keras.callbacks.History at 0x7ff1b4503c18>"
      ]
     },
     "execution_count": 8,
     "metadata": {},
     "output_type": "execute_result"
    }
   ],
   "source": [
    "model.compile(optimizer='adam', loss='binary_crossentropy', metrics=['acc'])\n",
    "model.fit(X_train, y_train, epochs=100, verbose=2)"
   ]
  },
  {
   "cell_type": "markdown",
   "id": "hollywood-penetration",
   "metadata": {},
   "source": [
    "# 사전 훈련된 워드 임베딩 사용하기"
   ]
  },
  {
   "cell_type": "markdown",
   "id": "assigned-airline",
   "metadata": {},
   "source": [
    "사전 훈련된 GloVe와 Word2Vec 임베딩을 사용해서 모델을 훈련시키는 실습을 해보자"
   ]
  },
  {
   "cell_type": "markdown",
   "id": "anticipated-nelson",
   "metadata": {},
   "source": [
    "GloVe 다운로드 링크 : http://nlp.stanford.edu/data/glove.6B.zip   \n",
    "Word2Vec 다운로드 링크 : https://drive.google.com/file/d/0B7XkCwpI5KDYNlNUTTlSS21pQmM"
   ]
  },
  {
   "cell_type": "code",
   "execution_count": 11,
   "id": "fitted-booking",
   "metadata": {
    "ExecuteTime": {
     "end_time": "2021-02-25T05:03:13.577168Z",
     "start_time": "2021-02-25T04:56:20.900512Z"
    }
   },
   "outputs": [
    {
     "name": "stdout",
     "output_type": "stream",
     "text": [
      "--2021-02-25 04:56:20--  http://nlp.stanford.edu/data/glove.6B.zip\n",
      "Resolving nlp.stanford.edu (nlp.stanford.edu)... 171.64.67.140\n",
      "접속 nlp.stanford.edu (nlp.stanford.edu)|171.64.67.140|:80... 접속됨.\n",
      "HTTP request sent, awaiting response... 302 Found\n",
      "Location: https://nlp.stanford.edu/data/glove.6B.zip [following]\n",
      "--2021-02-25 04:56:21--  https://nlp.stanford.edu/data/glove.6B.zip\n",
      "접속 nlp.stanford.edu (nlp.stanford.edu)|171.64.67.140|:443... 접속됨.\n",
      "HTTP request sent, awaiting response... 301 Moved Permanently\n",
      "Location: http://downloads.cs.stanford.edu/nlp/data/glove.6B.zip [following]\n",
      "--2021-02-25 04:56:22--  http://downloads.cs.stanford.edu/nlp/data/glove.6B.zip\n",
      "Resolving downloads.cs.stanford.edu (downloads.cs.stanford.edu)... 171.64.64.22\n",
      "접속 downloads.cs.stanford.edu (downloads.cs.stanford.edu)|171.64.64.22|:80... 접속됨.\n",
      "HTTP request sent, awaiting response... 200 OK\n",
      "Length: 862182613 (822M) [application/zip]\n",
      "Saving to: ‘glove.6B.zip’\n",
      "\n",
      "glove.6B.zip        100%[===================>] 822.24M  1.89MB/s    in 6m 51s  \n",
      "\n",
      "2021-02-25 05:03:13 (2.00 MB/s) - ‘glove.6B.zip’ saved [862182613/862182613]\n",
      "\n"
     ]
    }
   ],
   "source": [
    "# !wget http://nlp.stanford.edu/data/glove.6B.zip\n"
   ]
  },
  {
   "cell_type": "code",
   "execution_count": 12,
   "id": "twenty-charger",
   "metadata": {
    "ExecuteTime": {
     "end_time": "2021-02-25T05:15:13.521290Z",
     "start_time": "2021-02-25T05:14:31.417976Z"
    }
   },
   "outputs": [
    {
     "name": "stdout",
     "output_type": "stream",
     "text": [
      "Archive:  glove.6B.zip\n",
      "  inflating: glove.6B.50d.txt        \n",
      "  inflating: glove.6B.100d.txt       \n",
      "  inflating: glove.6B.200d.txt       \n",
      "  inflating: glove.6B.300d.txt       \n"
     ]
    }
   ],
   "source": [
    "!unzip glove*.zip"
   ]
  },
  {
   "cell_type": "code",
   "execution_count": 9,
   "id": "tropical-talent",
   "metadata": {
    "ExecuteTime": {
     "end_time": "2021-02-25T04:53:54.403003Z",
     "start_time": "2021-02-25T04:53:54.396134Z"
    }
   },
   "outputs": [
    {
     "name": "stdout",
     "output_type": "stream",
     "text": [
      "[[ 1  2  3  4]\n",
      " [ 5  6  0  0]\n",
      " [ 7  8  0  0]\n",
      " [ 9 10  0  0]\n",
      " [11 12  0  0]\n",
      " [13  0  0  0]\n",
      " [14 15  0  0]]\n"
     ]
    }
   ],
   "source": [
    "print(X_train)"
   ]
  },
  {
   "cell_type": "code",
   "execution_count": 10,
   "id": "polish-narrow",
   "metadata": {
    "ExecuteTime": {
     "end_time": "2021-02-25T04:54:03.339015Z",
     "start_time": "2021-02-25T04:54:03.334030Z"
    }
   },
   "outputs": [
    {
     "name": "stdout",
     "output_type": "stream",
     "text": [
      "[1 0 0 1 1 0 1]\n"
     ]
    }
   ],
   "source": [
    "print(y_train)"
   ]
  },
  {
   "cell_type": "markdown",
   "id": "labeled-closure",
   "metadata": {},
   "source": [
    "## 1) 사전 훈련된 GloVe 사용하기"
   ]
  },
  {
   "cell_type": "code",
   "execution_count": 15,
   "id": "saving-ethics",
   "metadata": {
    "ExecuteTime": {
     "end_time": "2021-02-25T05:16:28.179975Z",
     "start_time": "2021-02-25T05:16:28.165415Z"
    },
    "scrolled": false
   },
   "outputs": [
    {
     "name": "stdout",
     "output_type": "stream",
     "text": [
      "word_vector :  ['the', '-0.038194', '-0.24487', '0.72812', '-0.39961', '0.083172', '0.043953', '-0.39141', '0.3344', '-0.57545', '0.087459', '0.28787', '-0.06731', '0.30906', '-0.26384', '-0.13231', '-0.20757', '0.33395', '-0.33848', '-0.31743', '-0.48336', '0.1464', '-0.37304', '0.34577', '0.052041', '0.44946', '-0.46971', '0.02628', '-0.54155', '-0.15518', '-0.14107', '-0.039722', '0.28277', '0.14393', '0.23464', '-0.31021', '0.086173', '0.20397', '0.52624', '0.17164', '-0.082378', '-0.71787', '-0.41531', '0.20335', '-0.12763', '0.41367', '0.55187', '0.57908', '-0.33477', '-0.36559', '-0.54857', '-0.062892', '0.26584', '0.30205', '0.99775', '-0.80481', '-3.0243', '0.01254', '-0.36942', '2.2167', '0.72201', '-0.24978', '0.92136', '0.034514', '0.46745', '1.1079', '-0.19358', '-0.074575', '0.23353', '-0.052062', '-0.22044', '0.057162', '-0.15806', '-0.30798', '-0.41625', '0.37972', '0.15006', '-0.53212', '-0.2055', '-1.2526', '0.071624', '0.70565', '0.49744', '-0.42063', '0.26148', '-1.538', '-0.30223', '-0.073438', '-0.28312', '0.37104', '-0.25217', '0.016215', '-0.017099', '-0.38984', '0.87424', '-0.72569', '-0.51058', '-0.52028', '-0.1459', '0.8278', '0.27062']\n",
      "word :  the\n",
      "word_vector :  [',', '-0.10767', '0.11053', '0.59812', '-0.54361', '0.67396', '0.10663', '0.038867', '0.35481', '0.06351', '-0.094189', '0.15786', '-0.81665', '0.14172', '0.21939', '0.58505', '-0.52158', '0.22783', '-0.16642', '-0.68228', '0.3587', '0.42568', '0.19021', '0.91963', '0.57555', '0.46185', '0.42363', '-0.095399', '-0.42749', '-0.16567', '-0.056842', '-0.29595', '0.26037', '-0.26606', '-0.070404', '-0.27662', '0.15821', '0.69825', '0.43081', '0.27952', '-0.45437', '-0.33801', '-0.58184', '0.22364', '-0.5778', '-0.26862', '-0.20425', '0.56394', '-0.58524', '-0.14365', '-0.64218', '0.0054697', '-0.35248', '0.16162', '1.1796', '-0.47674', '-2.7553', '-0.1321', '-0.047729', '1.0655', '1.1034', '-0.2208', '0.18669', '0.13177', '0.15117', '0.7131', '-0.35215', '0.91348', '0.61783', '0.70992', '0.23955', '-0.14571', '-0.37859', '-0.045959', '-0.47368', '0.2385', '0.20536', '-0.18996', '0.32507', '-1.1112', '-0.36341', '0.98679', '-0.084776', '-0.54008', '0.11726', '-1.0194', '-0.24424', '0.12771', '0.013884', '0.080374', '-0.35414', '0.34951', '-0.7226', '0.37549', '0.4441', '-0.99059', '0.61214', '-0.35111', '-0.83155', '0.45293', '0.082577']\n",
      "word :  ,\n"
     ]
    }
   ],
   "source": [
    "n=0\n",
    "f = open('glove.6B.100d.txt', encoding=\"utf8\")\n",
    "\n",
    "for line in f:\n",
    "    word_vector = line.split() # 각 줄을 읽어와서 word_vector에 저장.\n",
    "    print(\"word_vector : \", word_vector) # 각 줄을 출력\n",
    "    word = word_vector[0] # word_vector에서 첫번째 값만 저장\n",
    "    print(\"word : \", word) # word_vector의 첫번째 값만 출력\n",
    "    n=n+1\n",
    "    if n==2: # 2개의 줄만 읽어오도록 설정\n",
    "        break\n",
    "f.close()"
   ]
  },
  {
   "cell_type": "code",
   "execution_count": 16,
   "id": "lovely-utilization",
   "metadata": {
    "ExecuteTime": {
     "end_time": "2021-02-25T05:17:31.191392Z",
     "start_time": "2021-02-25T05:17:31.183973Z"
    }
   },
   "outputs": [
    {
     "name": "stdout",
     "output_type": "stream",
     "text": [
      "<class 'list'>\n",
      "101\n"
     ]
    }
   ],
   "source": [
    "print(type(word_vector))\n",
    "print(len(word_vector))"
   ]
  },
  {
   "cell_type": "markdown",
   "id": "exceptional-episode",
   "metadata": {},
   "source": [
    "word_vector안 101개 값 중에서 첫번째 값은 임베딩 벡터가 의미하는 단어를 말하고, 두번째 값부터 101번째 값까지는 해당 단어의 임베딩 벡터 100개 차원에서의 각 값을 말한다. 즉 'glove.6B.100d.txt'파일은 많은 단어에 대해서 100개의 차원을 가지는 임베딩 벡터로 제공하고 있다.\n",
    "\n",
    "이제 모든 임베딩 벡터들을 불러오기 위해서 형식은 파이썬의 사전형 구조를 사용하도록 한다."
   ]
  },
  {
   "cell_type": "code",
   "execution_count": 17,
   "id": "floppy-margin",
   "metadata": {
    "ExecuteTime": {
     "end_time": "2021-02-25T05:25:02.008334Z",
     "start_time": "2021-02-25T05:24:52.016484Z"
    }
   },
   "outputs": [
    {
     "name": "stdout",
     "output_type": "stream",
     "text": [
      "400000개의 Embedding vector가 있습니다.\n"
     ]
    }
   ],
   "source": [
    "import numpy as np\n",
    "embedding_dict = dict()\n",
    "f = open('glove.6B.100d.txt', encoding=\"utf8\")\n",
    "\n",
    "for line in f:\n",
    "    word_vector = line.split()\n",
    "    word = word_vector[0]\n",
    "    word_vector_arr = np.asarray(word_vector[1:], dtype='float32') # 100개의 값을 가지는 array로 변환\n",
    "    embedding_dict[word] = word_vector_arr\n",
    "f.close()\n",
    "print('%s개의 Embedding vector가 있습니다.' % len(embedding_dict))"
   ]
  },
  {
   "cell_type": "code",
   "execution_count": 18,
   "id": "advisory-mineral",
   "metadata": {
    "ExecuteTime": {
     "end_time": "2021-02-25T05:25:16.044117Z",
     "start_time": "2021-02-25T05:25:16.035130Z"
    }
   },
   "outputs": [
    {
     "name": "stdout",
     "output_type": "stream",
     "text": [
      "[-0.049773   0.19903    0.10585    0.1391    -0.32395    0.44053\n",
      "  0.3947    -0.22805   -0.25793    0.49768    0.15384   -0.08831\n",
      "  0.0782    -0.8299    -0.037788   0.16772   -0.45197   -0.17085\n",
      "  0.74756    0.98256    0.81872    0.28507    0.16178   -0.48626\n",
      " -0.006265  -0.92469   -0.30625   -0.067318  -0.046762  -0.76291\n",
      " -0.0025264 -0.018795   0.12882   -0.52457    0.3586     0.43119\n",
      " -0.89477   -0.057421  -0.53724    0.25587    0.55195    0.44698\n",
      " -0.24252    0.29946    0.25776   -0.8717     0.68426   -0.05688\n",
      " -0.1848    -0.59352   -0.11227   -0.57692   -0.013593   0.18488\n",
      " -0.32507   -0.90171    0.17672    0.075601   0.54896   -0.21488\n",
      " -0.54018   -0.45882   -0.79536    0.26331    0.18879   -0.16363\n",
      "  0.3975     0.1099     0.1164    -0.083499   0.50159    0.35802\n",
      "  0.25677    0.088546   0.42108    0.28674   -0.71285   -0.82915\n",
      "  0.15297   -0.82712    0.022112   1.067     -0.31776    0.1211\n",
      " -0.069755  -0.61327    0.27308   -0.42638   -0.085084  -0.17694\n",
      " -0.0090944  0.1109     0.62543   -0.23682   -0.44928   -0.3667\n",
      " -0.21616   -0.19187   -0.032502   0.38025  ]\n",
      "100\n"
     ]
    }
   ],
   "source": [
    "# 임의의 단어 'respectable'에 대한 임베딩 벡터값과 임베딩 벡터 차원 출력\n",
    "\n",
    "print(embedding_dict['respectable'])\n",
    "print(len(embedding_dict['respectable']))"
   ]
  },
  {
   "cell_type": "code",
   "execution_count": 19,
   "id": "individual-upset",
   "metadata": {
    "ExecuteTime": {
     "end_time": "2021-02-25T05:29:03.483065Z",
     "start_time": "2021-02-25T05:29:03.471455Z"
    }
   },
   "outputs": [
    {
     "data": {
      "text/plain": [
       "(16, 100)"
      ]
     },
     "execution_count": 19,
     "metadata": {},
     "output_type": "execute_result"
    }
   ],
   "source": [
    "embedding_matrix = np.zeros((vocab_size, 100))\n",
    "# 단어 집합 크기의 행과 100개의 열을 가지는 행렬 생성. 값은 전부 0으로 채워진다.\n",
    "np.shape(embedding_matrix)"
   ]
  },
  {
   "cell_type": "code",
   "execution_count": 20,
   "id": "least-silence",
   "metadata": {
    "ExecuteTime": {
     "end_time": "2021-02-25T05:32:10.746960Z",
     "start_time": "2021-02-25T05:32:10.740565Z"
    }
   },
   "outputs": [
    {
     "name": "stdout",
     "output_type": "stream",
     "text": [
      "dict_items([('nice', 1), ('great', 2), ('best', 3), ('amazing', 4), ('stop', 5), ('lies', 6), ('pitiful', 7), ('nerd', 8), ('excellent', 9), ('work', 10), ('supreme', 11), ('quality', 12), ('bad', 13), ('highly', 14), ('respectable', 15)])\n"
     ]
    }
   ],
   "source": [
    "print(t.word_index.items())"
   ]
  },
  {
   "cell_type": "code",
   "execution_count": 21,
   "id": "difficult-characteristic",
   "metadata": {
    "ExecuteTime": {
     "end_time": "2021-02-25T05:33:13.508862Z",
     "start_time": "2021-02-25T05:33:13.500348Z"
    }
   },
   "outputs": [],
   "source": [
    "for word, i in t.word_index.items(): # 훈련 데이터의 단어 집합에서 단어를 1개씩 꺼내온다.\n",
    "    temp = embedding_dict.get(word) # 단어(key) 해당되는 임베딩 벡터의 100개의 값(value)를 임시 변수에 저장\n",
    "    if temp is not None:\n",
    "        embedding_matrix[i] = temp # 임수 변수의 값을 단어와 맵핑되는 인덱스의 행에 삽입"
   ]
  },
  {
   "cell_type": "markdown",
   "id": "advisory-norman",
   "metadata": {},
   "source": [
    "이제 훈련 데이터의 단어 집합의 모든 단어에 대하여 사전 훈련된 GloVe의 임베딩 벡터들을 맵핑하였다. 이를 이용하여 임베딩 층을 만들어 본다."
   ]
  },
  {
   "cell_type": "code",
   "execution_count": 22,
   "id": "imported-summary",
   "metadata": {
    "ExecuteTime": {
     "end_time": "2021-02-25T05:34:26.330934Z",
     "start_time": "2021-02-25T05:34:26.317367Z"
    }
   },
   "outputs": [],
   "source": [
    "from tensorflow.keras.models import Sequential\n",
    "from tensorflow.keras.layers import Dense, Embedding, Flatten\n",
    "\n",
    "model = Sequential()\n",
    "e = Embedding(vocab_size, 100, weights=[embedding_matrix], input_length=max_len, trainable=False)"
   ]
  },
  {
   "cell_type": "markdown",
   "id": "aggressive-columbia",
   "metadata": {},
   "source": [
    "현재 실습에서 사전 훈련된 워드 임베딩 차원이 100인 값을 사용하므로 출력 차원을 100으로 하고,사전 훈련된 임베딩을 그대로 사용할 것이기 때문에 훈련을 더 이상 하지 않게 하기 위해서 trainable을 False로 설정한다."
   ]
  },
  {
   "cell_type": "code",
   "execution_count": 23,
   "id": "checked-share",
   "metadata": {
    "ExecuteTime": {
     "end_time": "2021-02-25T05:37:04.898662Z",
     "start_time": "2021-02-25T05:37:03.960290Z"
    },
    "scrolled": true
   },
   "outputs": [
    {
     "name": "stdout",
     "output_type": "stream",
     "text": [
      "Epoch 1/100\n",
      "1/1 - 0s - loss: 0.8857 - acc: 0.2857\n",
      "Epoch 2/100\n",
      "1/1 - 0s - loss: 0.8640 - acc: 0.2857\n",
      "Epoch 3/100\n",
      "1/1 - 0s - loss: 0.8429 - acc: 0.2857\n",
      "Epoch 4/100\n",
      "1/1 - 0s - loss: 0.8225 - acc: 0.2857\n",
      "Epoch 5/100\n",
      "1/1 - 0s - loss: 0.8027 - acc: 0.4286\n",
      "Epoch 6/100\n",
      "1/1 - 0s - loss: 0.7835 - acc: 0.4286\n",
      "Epoch 7/100\n",
      "1/1 - 0s - loss: 0.7648 - acc: 0.4286\n",
      "Epoch 8/100\n",
      "1/1 - 0s - loss: 0.7466 - acc: 0.5714\n",
      "Epoch 9/100\n",
      "1/1 - 0s - loss: 0.7290 - acc: 0.5714\n",
      "Epoch 10/100\n",
      "1/1 - 0s - loss: 0.7118 - acc: 0.5714\n",
      "Epoch 11/100\n",
      "1/1 - 0s - loss: 0.6952 - acc: 0.5714\n",
      "Epoch 12/100\n",
      "1/1 - 0s - loss: 0.6790 - acc: 0.5714\n",
      "Epoch 13/100\n",
      "1/1 - 0s - loss: 0.6632 - acc: 0.5714\n",
      "Epoch 14/100\n",
      "1/1 - 0s - loss: 0.6479 - acc: 0.5714\n",
      "Epoch 15/100\n",
      "1/1 - 0s - loss: 0.6330 - acc: 0.5714\n",
      "Epoch 16/100\n",
      "1/1 - 0s - loss: 0.6184 - acc: 0.7143\n",
      "Epoch 17/100\n",
      "1/1 - 0s - loss: 0.6043 - acc: 0.7143\n",
      "Epoch 18/100\n",
      "1/1 - 0s - loss: 0.5905 - acc: 0.7143\n",
      "Epoch 19/100\n",
      "1/1 - 0s - loss: 0.5770 - acc: 0.8571\n",
      "Epoch 20/100\n",
      "1/1 - 0s - loss: 0.5639 - acc: 0.8571\n",
      "Epoch 21/100\n",
      "1/1 - 0s - loss: 0.5511 - acc: 0.8571\n",
      "Epoch 22/100\n",
      "1/1 - 0s - loss: 0.5387 - acc: 0.8571\n",
      "Epoch 23/100\n",
      "1/1 - 0s - loss: 0.5265 - acc: 0.8571\n",
      "Epoch 24/100\n",
      "1/1 - 0s - loss: 0.5146 - acc: 0.8571\n",
      "Epoch 25/100\n",
      "1/1 - 0s - loss: 0.5030 - acc: 0.8571\n",
      "Epoch 26/100\n",
      "1/1 - 0s - loss: 0.4917 - acc: 0.8571\n",
      "Epoch 27/100\n",
      "1/1 - 0s - loss: 0.4807 - acc: 0.8571\n",
      "Epoch 28/100\n",
      "1/1 - 0s - loss: 0.4700 - acc: 0.8571\n",
      "Epoch 29/100\n",
      "1/1 - 0s - loss: 0.4595 - acc: 0.8571\n",
      "Epoch 30/100\n",
      "1/1 - 0s - loss: 0.4493 - acc: 0.8571\n",
      "Epoch 31/100\n",
      "1/1 - 0s - loss: 0.4393 - acc: 0.8571\n",
      "Epoch 32/100\n",
      "1/1 - 0s - loss: 0.4296 - acc: 0.8571\n",
      "Epoch 33/100\n",
      "1/1 - 0s - loss: 0.4201 - acc: 0.8571\n",
      "Epoch 34/100\n",
      "1/1 - 0s - loss: 0.4109 - acc: 0.8571\n",
      "Epoch 35/100\n",
      "1/1 - 0s - loss: 0.4019 - acc: 0.8571\n",
      "Epoch 36/100\n",
      "1/1 - 0s - loss: 0.3932 - acc: 0.8571\n",
      "Epoch 37/100\n",
      "1/1 - 0s - loss: 0.3847 - acc: 0.8571\n",
      "Epoch 38/100\n",
      "1/1 - 0s - loss: 0.3764 - acc: 0.8571\n",
      "Epoch 39/100\n",
      "1/1 - 0s - loss: 0.3683 - acc: 0.8571\n",
      "Epoch 40/100\n",
      "1/1 - 0s - loss: 0.3605 - acc: 0.8571\n",
      "Epoch 41/100\n",
      "1/1 - 0s - loss: 0.3528 - acc: 1.0000\n",
      "Epoch 42/100\n",
      "1/1 - 0s - loss: 0.3454 - acc: 1.0000\n",
      "Epoch 43/100\n",
      "1/1 - 0s - loss: 0.3382 - acc: 1.0000\n",
      "Epoch 44/100\n",
      "1/1 - 0s - loss: 0.3311 - acc: 1.0000\n",
      "Epoch 45/100\n",
      "1/1 - 0s - loss: 0.3243 - acc: 1.0000\n",
      "Epoch 46/100\n",
      "1/1 - 0s - loss: 0.3176 - acc: 1.0000\n",
      "Epoch 47/100\n",
      "1/1 - 0s - loss: 0.3112 - acc: 1.0000\n",
      "Epoch 48/100\n",
      "1/1 - 0s - loss: 0.3049 - acc: 1.0000\n",
      "Epoch 49/100\n",
      "1/1 - 0s - loss: 0.2988 - acc: 1.0000\n",
      "Epoch 50/100\n",
      "1/1 - 0s - loss: 0.2928 - acc: 1.0000\n",
      "Epoch 51/100\n",
      "1/1 - 0s - loss: 0.2870 - acc: 1.0000\n",
      "Epoch 52/100\n",
      "1/1 - 0s - loss: 0.2814 - acc: 1.0000\n",
      "Epoch 53/100\n",
      "1/1 - 0s - loss: 0.2759 - acc: 1.0000\n",
      "Epoch 54/100\n",
      "1/1 - 0s - loss: 0.2706 - acc: 1.0000\n",
      "Epoch 55/100\n",
      "1/1 - 0s - loss: 0.2655 - acc: 1.0000\n",
      "Epoch 56/100\n",
      "1/1 - 0s - loss: 0.2604 - acc: 1.0000\n",
      "Epoch 57/100\n",
      "1/1 - 0s - loss: 0.2555 - acc: 1.0000\n",
      "Epoch 58/100\n",
      "1/1 - 0s - loss: 0.2508 - acc: 1.0000\n",
      "Epoch 59/100\n",
      "1/1 - 0s - loss: 0.2461 - acc: 1.0000\n",
      "Epoch 60/100\n",
      "1/1 - 0s - loss: 0.2416 - acc: 1.0000\n",
      "Epoch 61/100\n",
      "1/1 - 0s - loss: 0.2372 - acc: 1.0000\n",
      "Epoch 62/100\n",
      "1/1 - 0s - loss: 0.2330 - acc: 1.0000\n",
      "Epoch 63/100\n",
      "1/1 - 0s - loss: 0.2288 - acc: 1.0000\n",
      "Epoch 64/100\n",
      "1/1 - 0s - loss: 0.2248 - acc: 1.0000\n",
      "Epoch 65/100\n",
      "1/1 - 0s - loss: 0.2208 - acc: 1.0000\n",
      "Epoch 66/100\n",
      "1/1 - 0s - loss: 0.2170 - acc: 1.0000\n",
      "Epoch 67/100\n",
      "1/1 - 0s - loss: 0.2132 - acc: 1.0000\n",
      "Epoch 68/100\n",
      "1/1 - 0s - loss: 0.2096 - acc: 1.0000\n",
      "Epoch 69/100\n",
      "1/1 - 0s - loss: 0.2060 - acc: 1.0000\n",
      "Epoch 70/100\n",
      "1/1 - 0s - loss: 0.2026 - acc: 1.0000\n",
      "Epoch 71/100\n",
      "1/1 - 0s - loss: 0.1992 - acc: 1.0000\n",
      "Epoch 72/100\n",
      "1/1 - 0s - loss: 0.1959 - acc: 1.0000\n",
      "Epoch 73/100\n",
      "1/1 - 0s - loss: 0.1927 - acc: 1.0000\n",
      "Epoch 74/100\n",
      "1/1 - 0s - loss: 0.1896 - acc: 1.0000\n",
      "Epoch 75/100\n",
      "1/1 - 0s - loss: 0.1865 - acc: 1.0000\n",
      "Epoch 76/100\n",
      "1/1 - 0s - loss: 0.1835 - acc: 1.0000\n",
      "Epoch 77/100\n",
      "1/1 - 0s - loss: 0.1806 - acc: 1.0000\n",
      "Epoch 78/100\n",
      "1/1 - 0s - loss: 0.1778 - acc: 1.0000\n",
      "Epoch 79/100\n",
      "1/1 - 0s - loss: 0.1750 - acc: 1.0000\n",
      "Epoch 80/100\n",
      "1/1 - 0s - loss: 0.1723 - acc: 1.0000\n",
      "Epoch 81/100\n",
      "1/1 - 0s - loss: 0.1697 - acc: 1.0000\n",
      "Epoch 82/100\n",
      "1/1 - 0s - loss: 0.1671 - acc: 1.0000\n",
      "Epoch 83/100\n",
      "1/1 - 0s - loss: 0.1646 - acc: 1.0000\n",
      "Epoch 84/100\n",
      "1/1 - 0s - loss: 0.1622 - acc: 1.0000\n",
      "Epoch 85/100\n",
      "1/1 - 0s - loss: 0.1598 - acc: 1.0000\n",
      "Epoch 86/100\n",
      "1/1 - 0s - loss: 0.1574 - acc: 1.0000\n",
      "Epoch 87/100\n",
      "1/1 - 0s - loss: 0.1551 - acc: 1.0000\n",
      "Epoch 88/100\n",
      "1/1 - 0s - loss: 0.1529 - acc: 1.0000\n",
      "Epoch 89/100\n",
      "1/1 - 0s - loss: 0.1507 - acc: 1.0000\n",
      "Epoch 90/100\n",
      "1/1 - 0s - loss: 0.1486 - acc: 1.0000\n",
      "Epoch 91/100\n",
      "1/1 - 0s - loss: 0.1465 - acc: 1.0000\n",
      "Epoch 92/100\n",
      "1/1 - 0s - loss: 0.1444 - acc: 1.0000\n",
      "Epoch 93/100\n",
      "1/1 - 0s - loss: 0.1424 - acc: 1.0000\n",
      "Epoch 94/100\n",
      "1/1 - 0s - loss: 0.1405 - acc: 1.0000\n",
      "Epoch 95/100\n",
      "1/1 - 0s - loss: 0.1386 - acc: 1.0000\n",
      "Epoch 96/100\n",
      "1/1 - 0s - loss: 0.1367 - acc: 1.0000\n",
      "Epoch 97/100\n",
      "1/1 - 0s - loss: 0.1349 - acc: 1.0000\n",
      "Epoch 98/100\n",
      "1/1 - 0s - loss: 0.1331 - acc: 1.0000\n",
      "Epoch 99/100\n",
      "1/1 - 0s - loss: 0.1313 - acc: 1.0000\n",
      "Epoch 100/100\n",
      "1/1 - 0s - loss: 0.1296 - acc: 1.0000\n"
     ]
    },
    {
     "data": {
      "text/plain": [
       "<tensorflow.python.keras.callbacks.History at 0x7ff1738a2ac8>"
      ]
     },
     "execution_count": 23,
     "metadata": {},
     "output_type": "execute_result"
    }
   ],
   "source": [
    "model.add(e)\n",
    "model.add(Flatten())\n",
    "model.add(Dense(1, activation='sigmoid'))\n",
    "model.compile(optimizer='adam', loss='binary_crossentropy', metrics=['acc'])\n",
    "model.fit(X_train, y_train, epochs=100, verbose=2)"
   ]
  },
  {
   "cell_type": "markdown",
   "id": "imported-massage",
   "metadata": {},
   "source": [
    "## 2) 사전 훈련된 Word2Vec 사용하기"
   ]
  },
  {
   "cell_type": "code",
   "execution_count": 24,
   "id": "sweet-routine",
   "metadata": {
    "ExecuteTime": {
     "end_time": "2021-02-25T05:39:46.296399Z",
     "start_time": "2021-02-25T05:39:45.591044Z"
    }
   },
   "outputs": [],
   "source": [
    "import numpy as np\n",
    "import gensim"
   ]
  },
  {
   "cell_type": "code",
   "execution_count": 25,
   "id": "norman-journal",
   "metadata": {
    "ExecuteTime": {
     "end_time": "2021-02-25T05:42:41.697688Z",
     "start_time": "2021-02-25T05:39:49.456359Z"
    }
   },
   "outputs": [
    {
     "name": "stdout",
     "output_type": "stream",
     "text": [
      "--2021-02-25 05:39:49--  https://s3.amazonaws.com/dl4j-distribution/GoogleNews-vectors-negative300.bin.gz\n",
      "Resolving s3.amazonaws.com (s3.amazonaws.com)... 52.216.240.214\n",
      "접속 s3.amazonaws.com (s3.amazonaws.com)|52.216.240.214|:443... 접속됨.\n",
      "HTTP request sent, awaiting response... 200 OK\n",
      "Length: 1647046227 (1.5G) [application/x-gzip]\n",
      "Saving to: ‘GoogleNews-vectors-negative300.bin.gz.1’\n",
      "\n",
      "GoogleNews-vectors- 100%[===================>]   1.53G  13.6MB/s    in 2m 50s  \n",
      "\n",
      "2021-02-25 05:42:41 (9.24 MB/s) - ‘GoogleNews-vectors-negative300.bin.gz.1’ saved [1647046227/1647046227]\n",
      "\n"
     ]
    }
   ],
   "source": [
    "# 현재 위치에 구글의 사전 훈련된 Word2Vec을 다운로드\n",
    "!wget \"https://s3.amazonaws.com/dl4j-distribution/GoogleNews-vectors-negative300.bin.gz\""
   ]
  },
  {
   "cell_type": "code",
   "execution_count": 26,
   "id": "funny-throw",
   "metadata": {
    "ExecuteTime": {
     "end_time": "2021-02-25T05:43:53.873187Z",
     "start_time": "2021-02-25T05:42:59.668378Z"
    }
   },
   "outputs": [],
   "source": [
    "# 구글의 사전 훈련된 Word2vec 모델을 로드합니다.\n",
    "word2vec_model = gensim.models.KeyedVectors.load_word2vec_format('GoogleNews-vectors-negative300.bin.gz', binary=True)"
   ]
  },
  {
   "cell_type": "code",
   "execution_count": 27,
   "id": "operational-providence",
   "metadata": {
    "ExecuteTime": {
     "end_time": "2021-02-25T05:43:53.878944Z",
     "start_time": "2021-02-25T05:43:53.875315Z"
    }
   },
   "outputs": [
    {
     "name": "stdout",
     "output_type": "stream",
     "text": [
      "(3000000, 300)\n"
     ]
    }
   ],
   "source": [
    "print(word2vec_model.vectors.shape) # 모델의 크기 확인"
   ]
  },
  {
   "cell_type": "markdown",
   "id": "cooked-finland",
   "metadata": {},
   "source": [
    "이 모델의 단어 총 개수는 3000000개이고 임베딩 차원이 300인 것을 확인할 수 있다."
   ]
  },
  {
   "cell_type": "code",
   "execution_count": 28,
   "id": "olive-lightning",
   "metadata": {
    "ExecuteTime": {
     "end_time": "2021-02-25T05:43:53.886498Z",
     "start_time": "2021-02-25T05:43:53.881791Z"
    }
   },
   "outputs": [
    {
     "data": {
      "text/plain": [
       "(16, 300)"
      ]
     },
     "execution_count": 28,
     "metadata": {},
     "output_type": "execute_result"
    }
   ],
   "source": [
    "embedding_matrix = np.zeros((vocab_size, 300))\n",
    "# 단어 집합 크기의 행과 300개의 열을 가지는 행렬 생성. 값은 전부 0으로 채워진다.\n",
    "np.shape(embedding_matrix)"
   ]
  },
  {
   "cell_type": "code",
   "execution_count": 29,
   "id": "disciplinary-flood",
   "metadata": {
    "ExecuteTime": {
     "end_time": "2021-02-25T05:43:53.891520Z",
     "start_time": "2021-02-25T05:43:53.888534Z"
    }
   },
   "outputs": [],
   "source": [
    "def get_vector(word):\n",
    "    if word in word2vec_model:\n",
    "        return word2vec_model[word]\n",
    "    else:\n",
    "        return None"
   ]
  },
  {
   "cell_type": "code",
   "execution_count": 30,
   "id": "scientific-complaint",
   "metadata": {
    "ExecuteTime": {
     "end_time": "2021-02-25T05:43:53.941910Z",
     "start_time": "2021-02-25T05:43:53.893632Z"
    }
   },
   "outputs": [],
   "source": [
    "for word, i in t.word_index.items(): # 훈련 데이터의 단어 집합에서 단어와 정수 인덱스를 1개씩 꺼내온다.\n",
    "    temp = get_vector(word) # 단어(key) 해당되는 임베딩 벡터의 300개의 값(value)를 임시 변수에 저장\n",
    "    if temp is not None: # 만약 None이 아니라면 임베딩 벡터의 값을 리턴받은 것이므로\n",
    "        embedding_matrix[i] = temp # 해당 단어 위치의 행에 벡터의 값을 저장한다."
   ]
  },
  {
   "cell_type": "code",
   "execution_count": 31,
   "id": "complimentary-liberia",
   "metadata": {
    "ExecuteTime": {
     "end_time": "2021-02-25T05:43:53.970713Z",
     "start_time": "2021-02-25T05:43:53.946127Z"
    }
   },
   "outputs": [
    {
     "name": "stdout",
     "output_type": "stream",
     "text": [
      "[ 0.15820312  0.10595703 -0.18945312  0.38671875  0.08349609 -0.26757812\n",
      "  0.08349609  0.11328125 -0.10400391  0.17871094 -0.12353516 -0.22265625\n",
      " -0.01806641 -0.25390625  0.13183594  0.0859375   0.16113281  0.11083984\n",
      " -0.11083984 -0.0859375   0.0267334   0.34570312  0.15136719 -0.00415039\n",
      "  0.10498047  0.04907227 -0.06982422  0.08642578  0.03198242 -0.02844238\n",
      " -0.15722656  0.11865234  0.36132812  0.00173187  0.05297852 -0.234375\n",
      "  0.11767578  0.08642578 -0.01123047  0.25976562  0.28515625 -0.11669922\n",
      "  0.38476562  0.07275391  0.01147461  0.03466797  0.18164062 -0.03955078\n",
      "  0.04199219  0.01013184 -0.06054688  0.09765625  0.06689453  0.14648438\n",
      " -0.12011719  0.08447266 -0.06152344  0.06347656  0.3046875  -0.35546875\n",
      " -0.2890625   0.19628906 -0.33203125 -0.07128906  0.12792969  0.09619141\n",
      " -0.12158203 -0.08691406 -0.12890625  0.27734375  0.265625    0.1796875\n",
      "  0.12695312  0.06298828 -0.34375    -0.05908203  0.0456543   0.171875\n",
      "  0.08935547  0.14648438 -0.04638672 -0.00842285 -0.0279541   0.234375\n",
      " -0.07470703 -0.13574219  0.00378418  0.19433594  0.05664062 -0.05419922\n",
      "  0.06176758  0.14160156 -0.24121094  0.02539062 -0.15917969 -0.10595703\n",
      "  0.11865234  0.24707031 -0.13574219 -0.20410156 -0.30078125  0.07910156\n",
      " -0.04394531  0.02026367 -0.05786133  0.2109375   0.13574219  0.08349609\n",
      " -0.0098877  -0.10546875 -0.08105469  0.03735352 -0.10351562 -0.10205078\n",
      "  0.23925781 -0.21875     0.05151367  0.06738281  0.07617188  0.04638672\n",
      "  0.03198242 -0.07275391  0.14550781  0.04858398 -0.05664062 -0.07470703\n",
      " -0.0030365  -0.09277344 -0.11083984 -0.03320312 -0.15234375 -0.12207031\n",
      "  0.09814453  0.375       0.00454712 -0.10009766  0.02734375  0.30078125\n",
      " -0.0390625   0.30078125 -0.04541016 -0.00424194  0.13671875 -0.18945312\n",
      " -0.21777344  0.12695312 -0.02746582 -0.18164062  0.08984375 -0.23339844\n",
      "  0.203125    0.2734375  -0.26953125  0.15332031 -0.20703125 -0.01153564\n",
      "  0.12451172  0.05395508 -0.23535156 -0.01409912 -0.09765625  0.20800781\n",
      "  0.19335938  0.14746094  0.28710938 -0.23046875  0.01965332 -0.09619141\n",
      " -0.0703125  -0.04174805 -0.17578125  0.0007019   0.10546875  0.10351562\n",
      "  0.02478027  0.35742188  0.17382812 -0.09570312 -0.18359375  0.23242188\n",
      " -0.14453125 -0.20410156 -0.01867676  0.06640625 -0.2265625  -0.00582886\n",
      " -0.08642578  0.02416992 -0.07324219 -0.29882812 -0.15625     0.07666016\n",
      "  0.19628906 -0.20410156  0.09863281 -0.01672363 -0.18652344 -0.12353516\n",
      " -0.16015625 -0.10058594  0.21777344  0.09375    -0.10058594 -0.03637695\n",
      "  0.15136719 -0.02526855 -0.23730469  0.03417969 -0.00604248  0.15625\n",
      " -0.14257812  0.18066406 -0.35351562  0.25        0.13085938 -0.04296875\n",
      "  0.17089844  0.20507812  0.00680542 -0.08251953 -0.06738281  0.22167969\n",
      " -0.16308594 -0.16699219 -0.02087402  0.11035156  0.06054688 -0.04223633\n",
      " -0.17285156  0.05029297 -0.19824219  0.01495361  0.06542969  0.03271484\n",
      "  0.14453125 -0.08691406 -0.11035156 -0.1484375   0.09667969  0.22363281\n",
      "  0.23535156  0.08398438  0.18164062 -0.10595703 -0.04296875  0.11572266\n",
      " -0.00153351  0.0534668  -0.1328125  -0.33203125 -0.08251953  0.30664062\n",
      "  0.22363281  0.27929688  0.09082031 -0.18066406 -0.00613403 -0.09423828\n",
      " -0.21289062  0.01965332 -0.08105469 -0.06689453 -0.31835938 -0.08447266\n",
      "  0.13574219  0.0625      0.07080078 -0.14257812 -0.11279297  0.01452637\n",
      " -0.06689453  0.03881836  0.19433594  0.09521484  0.11376953 -0.12451172\n",
      "  0.13769531 -0.18847656 -0.05224609  0.15820312  0.09863281 -0.04370117\n",
      " -0.06054688  0.21679688  0.04077148 -0.14648438 -0.18945312 -0.25195312\n",
      " -0.16894531 -0.08642578 -0.08544922  0.18945312 -0.14648438  0.13476562\n",
      " -0.04077148  0.03271484  0.08935547 -0.26757812  0.00836182 -0.21386719]\n"
     ]
    }
   ],
   "source": [
    "print(word2vec_model['nice'])"
   ]
  },
  {
   "cell_type": "code",
   "execution_count": 32,
   "id": "engaging-yugoslavia",
   "metadata": {
    "ExecuteTime": {
     "end_time": "2021-02-25T05:43:53.978478Z",
     "start_time": "2021-02-25T05:43:53.973176Z"
    }
   },
   "outputs": [
    {
     "name": "stdout",
     "output_type": "stream",
     "text": [
      "단어 nice의 정수 인덱스 : 1\n"
     ]
    }
   ],
   "source": [
    "print('단어 nice의 정수 인덱스 :', t.word_index['nice'])"
   ]
  },
  {
   "cell_type": "code",
   "execution_count": 33,
   "id": "outdoor-warren",
   "metadata": {
    "ExecuteTime": {
     "end_time": "2021-02-25T05:43:54.034724Z",
     "start_time": "2021-02-25T05:43:53.980701Z"
    },
    "scrolled": true
   },
   "outputs": [
    {
     "name": "stdout",
     "output_type": "stream",
     "text": [
      "[ 0.15820312  0.10595703 -0.18945312  0.38671875  0.08349609 -0.26757812\n",
      "  0.08349609  0.11328125 -0.10400391  0.17871094 -0.12353516 -0.22265625\n",
      " -0.01806641 -0.25390625  0.13183594  0.0859375   0.16113281  0.11083984\n",
      " -0.11083984 -0.0859375   0.0267334   0.34570312  0.15136719 -0.00415039\n",
      "  0.10498047  0.04907227 -0.06982422  0.08642578  0.03198242 -0.02844238\n",
      " -0.15722656  0.11865234  0.36132812  0.00173187  0.05297852 -0.234375\n",
      "  0.11767578  0.08642578 -0.01123047  0.25976562  0.28515625 -0.11669922\n",
      "  0.38476562  0.07275391  0.01147461  0.03466797  0.18164062 -0.03955078\n",
      "  0.04199219  0.01013184 -0.06054688  0.09765625  0.06689453  0.14648438\n",
      " -0.12011719  0.08447266 -0.06152344  0.06347656  0.3046875  -0.35546875\n",
      " -0.2890625   0.19628906 -0.33203125 -0.07128906  0.12792969  0.09619141\n",
      " -0.12158203 -0.08691406 -0.12890625  0.27734375  0.265625    0.1796875\n",
      "  0.12695312  0.06298828 -0.34375    -0.05908203  0.0456543   0.171875\n",
      "  0.08935547  0.14648438 -0.04638672 -0.00842285 -0.0279541   0.234375\n",
      " -0.07470703 -0.13574219  0.00378418  0.19433594  0.05664062 -0.05419922\n",
      "  0.06176758  0.14160156 -0.24121094  0.02539062 -0.15917969 -0.10595703\n",
      "  0.11865234  0.24707031 -0.13574219 -0.20410156 -0.30078125  0.07910156\n",
      " -0.04394531  0.02026367 -0.05786133  0.2109375   0.13574219  0.08349609\n",
      " -0.0098877  -0.10546875 -0.08105469  0.03735352 -0.10351562 -0.10205078\n",
      "  0.23925781 -0.21875     0.05151367  0.06738281  0.07617188  0.04638672\n",
      "  0.03198242 -0.07275391  0.14550781  0.04858398 -0.05664062 -0.07470703\n",
      " -0.0030365  -0.09277344 -0.11083984 -0.03320312 -0.15234375 -0.12207031\n",
      "  0.09814453  0.375       0.00454712 -0.10009766  0.02734375  0.30078125\n",
      " -0.0390625   0.30078125 -0.04541016 -0.00424194  0.13671875 -0.18945312\n",
      " -0.21777344  0.12695312 -0.02746582 -0.18164062  0.08984375 -0.23339844\n",
      "  0.203125    0.2734375  -0.26953125  0.15332031 -0.20703125 -0.01153564\n",
      "  0.12451172  0.05395508 -0.23535156 -0.01409912 -0.09765625  0.20800781\n",
      "  0.19335938  0.14746094  0.28710938 -0.23046875  0.01965332 -0.09619141\n",
      " -0.0703125  -0.04174805 -0.17578125  0.0007019   0.10546875  0.10351562\n",
      "  0.02478027  0.35742188  0.17382812 -0.09570312 -0.18359375  0.23242188\n",
      " -0.14453125 -0.20410156 -0.01867676  0.06640625 -0.2265625  -0.00582886\n",
      " -0.08642578  0.02416992 -0.07324219 -0.29882812 -0.15625     0.07666016\n",
      "  0.19628906 -0.20410156  0.09863281 -0.01672363 -0.18652344 -0.12353516\n",
      " -0.16015625 -0.10058594  0.21777344  0.09375    -0.10058594 -0.03637695\n",
      "  0.15136719 -0.02526855 -0.23730469  0.03417969 -0.00604248  0.15625\n",
      " -0.14257812  0.18066406 -0.35351562  0.25        0.13085938 -0.04296875\n",
      "  0.17089844  0.20507812  0.00680542 -0.08251953 -0.06738281  0.22167969\n",
      " -0.16308594 -0.16699219 -0.02087402  0.11035156  0.06054688 -0.04223633\n",
      " -0.17285156  0.05029297 -0.19824219  0.01495361  0.06542969  0.03271484\n",
      "  0.14453125 -0.08691406 -0.11035156 -0.1484375   0.09667969  0.22363281\n",
      "  0.23535156  0.08398438  0.18164062 -0.10595703 -0.04296875  0.11572266\n",
      " -0.00153351  0.0534668  -0.1328125  -0.33203125 -0.08251953  0.30664062\n",
      "  0.22363281  0.27929688  0.09082031 -0.18066406 -0.00613403 -0.09423828\n",
      " -0.21289062  0.01965332 -0.08105469 -0.06689453 -0.31835938 -0.08447266\n",
      "  0.13574219  0.0625      0.07080078 -0.14257812 -0.11279297  0.01452637\n",
      " -0.06689453  0.03881836  0.19433594  0.09521484  0.11376953 -0.12451172\n",
      "  0.13769531 -0.18847656 -0.05224609  0.15820312  0.09863281 -0.04370117\n",
      " -0.06054688  0.21679688  0.04077148 -0.14648438 -0.18945312 -0.25195312\n",
      " -0.16894531 -0.08642578 -0.08544922  0.18945312 -0.14648438  0.13476562\n",
      " -0.04077148  0.03271484  0.08935547 -0.26757812  0.00836182 -0.21386719]\n"
     ]
    }
   ],
   "source": [
    "print(embedding_matrix[1]) # 단어 'nice'의 임베딩 벡터값 출력"
   ]
  },
  {
   "cell_type": "markdown",
   "id": "spare-mexico",
   "metadata": {},
   "source": [
    "이제 Embedding에 사전 훈련된 embeddinmg_matrix를 입력으로 넣어주고 모델을 학습시켜본다."
   ]
  },
  {
   "cell_type": "code",
   "execution_count": 34,
   "id": "worse-demonstration",
   "metadata": {
    "ExecuteTime": {
     "end_time": "2021-02-25T05:43:55.044865Z",
     "start_time": "2021-02-25T05:43:54.039113Z"
    }
   },
   "outputs": [
    {
     "name": "stdout",
     "output_type": "stream",
     "text": [
      "Epoch 1/100\n",
      "1/1 - 1s - loss: 0.6580 - acc: 0.7143\n",
      "Epoch 2/100\n",
      "1/1 - 0s - loss: 0.6408 - acc: 0.7143\n",
      "Epoch 3/100\n",
      "1/1 - 0s - loss: 0.6240 - acc: 0.7143\n",
      "Epoch 4/100\n",
      "1/1 - 0s - loss: 0.6078 - acc: 0.7143\n",
      "Epoch 5/100\n",
      "1/1 - 0s - loss: 0.5921 - acc: 0.8571\n",
      "Epoch 6/100\n",
      "1/1 - 0s - loss: 0.5768 - acc: 1.0000\n",
      "Epoch 7/100\n",
      "1/1 - 0s - loss: 0.5621 - acc: 1.0000\n",
      "Epoch 8/100\n",
      "1/1 - 0s - loss: 0.5478 - acc: 1.0000\n",
      "Epoch 9/100\n",
      "1/1 - 0s - loss: 0.5340 - acc: 1.0000\n",
      "Epoch 10/100\n",
      "1/1 - 0s - loss: 0.5207 - acc: 1.0000\n",
      "Epoch 11/100\n",
      "1/1 - 0s - loss: 0.5078 - acc: 1.0000\n",
      "Epoch 12/100\n",
      "1/1 - 0s - loss: 0.4953 - acc: 1.0000\n",
      "Epoch 13/100\n",
      "1/1 - 0s - loss: 0.4832 - acc: 1.0000\n",
      "Epoch 14/100\n",
      "1/1 - 0s - loss: 0.4715 - acc: 1.0000\n",
      "Epoch 15/100\n",
      "1/1 - 0s - loss: 0.4602 - acc: 1.0000\n",
      "Epoch 16/100\n",
      "1/1 - 0s - loss: 0.4493 - acc: 1.0000\n",
      "Epoch 17/100\n",
      "1/1 - 0s - loss: 0.4387 - acc: 1.0000\n",
      "Epoch 18/100\n",
      "1/1 - 0s - loss: 0.4284 - acc: 1.0000\n",
      "Epoch 19/100\n",
      "1/1 - 0s - loss: 0.4185 - acc: 1.0000\n",
      "Epoch 20/100\n",
      "1/1 - 0s - loss: 0.4089 - acc: 1.0000\n",
      "Epoch 21/100\n",
      "1/1 - 0s - loss: 0.3996 - acc: 1.0000\n",
      "Epoch 22/100\n",
      "1/1 - 0s - loss: 0.3905 - acc: 1.0000\n",
      "Epoch 23/100\n",
      "1/1 - 0s - loss: 0.3818 - acc: 1.0000\n",
      "Epoch 24/100\n",
      "1/1 - 0s - loss: 0.3733 - acc: 1.0000\n",
      "Epoch 25/100\n",
      "1/1 - 0s - loss: 0.3650 - acc: 1.0000\n",
      "Epoch 26/100\n",
      "1/1 - 0s - loss: 0.3571 - acc: 1.0000\n",
      "Epoch 27/100\n",
      "1/1 - 0s - loss: 0.3493 - acc: 1.0000\n",
      "Epoch 28/100\n",
      "1/1 - 0s - loss: 0.3418 - acc: 1.0000\n",
      "Epoch 29/100\n",
      "1/1 - 0s - loss: 0.3345 - acc: 1.0000\n",
      "Epoch 30/100\n",
      "1/1 - 0s - loss: 0.3274 - acc: 1.0000\n",
      "Epoch 31/100\n",
      "1/1 - 0s - loss: 0.3206 - acc: 1.0000\n",
      "Epoch 32/100\n",
      "1/1 - 0s - loss: 0.3139 - acc: 1.0000\n",
      "Epoch 33/100\n",
      "1/1 - 0s - loss: 0.3074 - acc: 1.0000\n",
      "Epoch 34/100\n",
      "1/1 - 0s - loss: 0.3011 - acc: 1.0000\n",
      "Epoch 35/100\n",
      "1/1 - 0s - loss: 0.2950 - acc: 1.0000\n",
      "Epoch 36/100\n",
      "1/1 - 0s - loss: 0.2891 - acc: 1.0000\n",
      "Epoch 37/100\n",
      "1/1 - 0s - loss: 0.2833 - acc: 1.0000\n",
      "Epoch 38/100\n",
      "1/1 - 0s - loss: 0.2778 - acc: 1.0000\n",
      "Epoch 39/100\n",
      "1/1 - 0s - loss: 0.2723 - acc: 1.0000\n",
      "Epoch 40/100\n",
      "1/1 - 0s - loss: 0.2670 - acc: 1.0000\n",
      "Epoch 41/100\n",
      "1/1 - 0s - loss: 0.2619 - acc: 1.0000\n",
      "Epoch 42/100\n",
      "1/1 - 0s - loss: 0.2569 - acc: 1.0000\n",
      "Epoch 43/100\n",
      "1/1 - 0s - loss: 0.2520 - acc: 1.0000\n",
      "Epoch 44/100\n",
      "1/1 - 0s - loss: 0.2473 - acc: 1.0000\n",
      "Epoch 45/100\n",
      "1/1 - 0s - loss: 0.2427 - acc: 1.0000\n",
      "Epoch 46/100\n",
      "1/1 - 0s - loss: 0.2383 - acc: 1.0000\n",
      "Epoch 47/100\n",
      "1/1 - 0s - loss: 0.2339 - acc: 1.0000\n",
      "Epoch 48/100\n",
      "1/1 - 0s - loss: 0.2297 - acc: 1.0000\n",
      "Epoch 49/100\n",
      "1/1 - 0s - loss: 0.2256 - acc: 1.0000\n",
      "Epoch 50/100\n",
      "1/1 - 0s - loss: 0.2215 - acc: 1.0000\n",
      "Epoch 51/100\n",
      "1/1 - 0s - loss: 0.2176 - acc: 1.0000\n",
      "Epoch 52/100\n",
      "1/1 - 0s - loss: 0.2138 - acc: 1.0000\n",
      "Epoch 53/100\n",
      "1/1 - 0s - loss: 0.2101 - acc: 1.0000\n",
      "Epoch 54/100\n",
      "1/1 - 0s - loss: 0.2065 - acc: 1.0000\n",
      "Epoch 55/100\n",
      "1/1 - 0s - loss: 0.2030 - acc: 1.0000\n",
      "Epoch 56/100\n",
      "1/1 - 0s - loss: 0.1996 - acc: 1.0000\n",
      "Epoch 57/100\n",
      "1/1 - 0s - loss: 0.1962 - acc: 1.0000\n",
      "Epoch 58/100\n",
      "1/1 - 0s - loss: 0.1930 - acc: 1.0000\n",
      "Epoch 59/100\n",
      "1/1 - 0s - loss: 0.1898 - acc: 1.0000\n",
      "Epoch 60/100\n",
      "1/1 - 0s - loss: 0.1867 - acc: 1.0000\n",
      "Epoch 61/100\n",
      "1/1 - 0s - loss: 0.1837 - acc: 1.0000\n",
      "Epoch 62/100\n",
      "1/1 - 0s - loss: 0.1808 - acc: 1.0000\n",
      "Epoch 63/100\n",
      "1/1 - 0s - loss: 0.1779 - acc: 1.0000\n",
      "Epoch 64/100\n",
      "1/1 - 0s - loss: 0.1751 - acc: 1.0000\n",
      "Epoch 65/100\n",
      "1/1 - 0s - loss: 0.1724 - acc: 1.0000\n",
      "Epoch 66/100\n",
      "1/1 - 0s - loss: 0.1697 - acc: 1.0000\n",
      "Epoch 67/100\n",
      "1/1 - 0s - loss: 0.1671 - acc: 1.0000\n",
      "Epoch 68/100\n",
      "1/1 - 0s - loss: 0.1645 - acc: 1.0000\n",
      "Epoch 69/100\n",
      "1/1 - 0s - loss: 0.1620 - acc: 1.0000\n",
      "Epoch 70/100\n",
      "1/1 - 0s - loss: 0.1596 - acc: 1.0000\n",
      "Epoch 71/100\n",
      "1/1 - 0s - loss: 0.1572 - acc: 1.0000\n",
      "Epoch 72/100\n",
      "1/1 - 0s - loss: 0.1549 - acc: 1.0000\n",
      "Epoch 73/100\n",
      "1/1 - 0s - loss: 0.1527 - acc: 1.0000\n",
      "Epoch 74/100\n",
      "1/1 - 0s - loss: 0.1504 - acc: 1.0000\n",
      "Epoch 75/100\n",
      "1/1 - 0s - loss: 0.1483 - acc: 1.0000\n",
      "Epoch 76/100\n",
      "1/1 - 0s - loss: 0.1462 - acc: 1.0000\n",
      "Epoch 77/100\n",
      "1/1 - 0s - loss: 0.1441 - acc: 1.0000\n",
      "Epoch 78/100\n",
      "1/1 - 0s - loss: 0.1421 - acc: 1.0000\n",
      "Epoch 79/100\n",
      "1/1 - 0s - loss: 0.1401 - acc: 1.0000\n",
      "Epoch 80/100\n",
      "1/1 - 0s - loss: 0.1381 - acc: 1.0000\n",
      "Epoch 81/100\n",
      "1/1 - 0s - loss: 0.1362 - acc: 1.0000\n",
      "Epoch 82/100\n",
      "1/1 - 0s - loss: 0.1344 - acc: 1.0000\n",
      "Epoch 83/100\n",
      "1/1 - 0s - loss: 0.1326 - acc: 1.0000\n",
      "Epoch 84/100\n",
      "1/1 - 0s - loss: 0.1308 - acc: 1.0000\n",
      "Epoch 85/100\n",
      "1/1 - 0s - loss: 0.1290 - acc: 1.0000\n",
      "Epoch 86/100\n",
      "1/1 - 0s - loss: 0.1273 - acc: 1.0000\n",
      "Epoch 87/100\n",
      "1/1 - 0s - loss: 0.1257 - acc: 1.0000\n",
      "Epoch 88/100\n",
      "1/1 - 0s - loss: 0.1240 - acc: 1.0000\n",
      "Epoch 89/100\n",
      "1/1 - 0s - loss: 0.1224 - acc: 1.0000\n",
      "Epoch 90/100\n",
      "1/1 - 0s - loss: 0.1209 - acc: 1.0000\n",
      "Epoch 91/100\n",
      "1/1 - 0s - loss: 0.1193 - acc: 1.0000\n",
      "Epoch 92/100\n",
      "1/1 - 0s - loss: 0.1178 - acc: 1.0000\n",
      "Epoch 93/100\n",
      "1/1 - 0s - loss: 0.1163 - acc: 1.0000\n",
      "Epoch 94/100\n",
      "1/1 - 0s - loss: 0.1149 - acc: 1.0000\n",
      "Epoch 95/100\n",
      "1/1 - 0s - loss: 0.1135 - acc: 1.0000\n",
      "Epoch 96/100\n",
      "1/1 - 0s - loss: 0.1121 - acc: 1.0000\n",
      "Epoch 97/100\n",
      "1/1 - 0s - loss: 0.1107 - acc: 1.0000\n",
      "Epoch 98/100\n",
      "1/1 - 0s - loss: 0.1094 - acc: 1.0000\n",
      "Epoch 99/100\n",
      "1/1 - 0s - loss: 0.1081 - acc: 1.0000\n",
      "Epoch 100/100\n",
      "1/1 - 0s - loss: 0.1068 - acc: 1.0000\n"
     ]
    },
    {
     "data": {
      "text/plain": [
       "<tensorflow.python.keras.callbacks.History at 0x7ff048171e10>"
      ]
     },
     "execution_count": 34,
     "metadata": {},
     "output_type": "execute_result"
    }
   ],
   "source": [
    "from tensorflow.keras.models import Sequential\n",
    "from tensorflow.keras.layers import Dense, Embedding, Flatten\n",
    "\n",
    "model = Sequential()\n",
    "e = Embedding(vocab_size, 300, weights=[embedding_matrix], input_length=max_len, trainable=False)\n",
    "model.add(e)\n",
    "model.add(Flatten())\n",
    "model.add(Dense(1, activation='sigmoid'))\n",
    "model.compile(optimizer='adam', loss='binary_crossentropy', metrics=['acc'])\n",
    "model.fit(X_train, y_train, epochs=100, verbose=2)"
   ]
  },
  {
   "cell_type": "code",
   "execution_count": null,
   "id": "interim-lewis",
   "metadata": {},
   "outputs": [],
   "source": []
  }
 ],
 "metadata": {
  "kernelspec": {
   "display_name": "Python 3",
   "language": "python",
   "name": "python3"
  },
  "language_info": {
   "codemirror_mode": {
    "name": "ipython",
    "version": 3
   },
   "file_extension": ".py",
   "mimetype": "text/x-python",
   "name": "python",
   "nbconvert_exporter": "python",
   "pygments_lexer": "ipython3",
   "version": "3.6.12"
  },
  "latex_envs": {
   "LaTeX_envs_menu_present": true,
   "autoclose": false,
   "autocomplete": true,
   "bibliofile": "biblio.bib",
   "cite_by": "apalike",
   "current_citInitial": 1,
   "eqLabelWithNumbers": true,
   "eqNumInitial": 1,
   "hotkeys": {
    "equation": "Ctrl-E",
    "itemize": "Ctrl-I"
   },
   "labels_anchors": false,
   "latex_user_defs": false,
   "report_style_numbering": false,
   "user_envs_cfg": false
  }
 },
 "nbformat": 4,
 "nbformat_minor": 5
}
